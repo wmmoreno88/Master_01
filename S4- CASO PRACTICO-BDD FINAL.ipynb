{
 "cells": [
  {
   "cell_type": "markdown",
   "id": "d9cd1f2d",
   "metadata": {},
   "source": [
    "# S4- CASO PRACTICO-BDD FINAL"
   ]
  },
  {
   "cell_type": "markdown",
   "id": "da4f5c1e",
   "metadata": {},
   "source": [
    "Elaborado: Wilson Moreno"
   ]
  },
  {
   "cell_type": "markdown",
   "id": "e3e86dc9",
   "metadata": {},
   "source": [
    "## Importe la base de datos a una base en Jupyter Notebook con pandas. "
   ]
  },
  {
   "cell_type": "code",
   "execution_count": 4,
   "id": "81f161a8",
   "metadata": {},
   "outputs": [
    {
     "data": {
      "text/html": [
       "<div>\n",
       "<style scoped>\n",
       "    .dataframe tbody tr th:only-of-type {\n",
       "        vertical-align: middle;\n",
       "    }\n",
       "\n",
       "    .dataframe tbody tr th {\n",
       "        vertical-align: top;\n",
       "    }\n",
       "\n",
       "    .dataframe thead th {\n",
       "        text-align: right;\n",
       "    }\n",
       "</style>\n",
       "<table border=\"1\" class=\"dataframe\">\n",
       "  <thead>\n",
       "    <tr style=\"text-align: right;\">\n",
       "      <th></th>\n",
       "      <th>Tienda</th>\n",
       "      <th>Fecha</th>\n",
       "      <th>Ventas_Semanales</th>\n",
       "      <th>vacaciones_bandera</th>\n",
       "      <th>Temperatura</th>\n",
       "      <th>Precio_combustible</th>\n",
       "      <th>IPC</th>\n",
       "      <th>Desempleo</th>\n",
       "    </tr>\n",
       "  </thead>\n",
       "  <tbody>\n",
       "    <tr>\n",
       "      <th>0</th>\n",
       "      <td>1</td>\n",
       "      <td>05-02-2010</td>\n",
       "      <td>1643690.90</td>\n",
       "      <td>0</td>\n",
       "      <td>42.31</td>\n",
       "      <td>2.572</td>\n",
       "      <td>211.096358</td>\n",
       "      <td>8.106</td>\n",
       "    </tr>\n",
       "    <tr>\n",
       "      <th>1</th>\n",
       "      <td>1</td>\n",
       "      <td>12-02-2010</td>\n",
       "      <td>1641957.44</td>\n",
       "      <td>1</td>\n",
       "      <td>38.51</td>\n",
       "      <td>2.548</td>\n",
       "      <td>211.242170</td>\n",
       "      <td>8.106</td>\n",
       "    </tr>\n",
       "    <tr>\n",
       "      <th>2</th>\n",
       "      <td>1</td>\n",
       "      <td>19-02-2010</td>\n",
       "      <td>1611968.17</td>\n",
       "      <td>0</td>\n",
       "      <td>39.93</td>\n",
       "      <td>2.514</td>\n",
       "      <td>211.289143</td>\n",
       "      <td>8.106</td>\n",
       "    </tr>\n",
       "    <tr>\n",
       "      <th>3</th>\n",
       "      <td>1</td>\n",
       "      <td>26-02-2010</td>\n",
       "      <td>1409727.59</td>\n",
       "      <td>0</td>\n",
       "      <td>46.63</td>\n",
       "      <td>2.561</td>\n",
       "      <td>211.319643</td>\n",
       "      <td>8.106</td>\n",
       "    </tr>\n",
       "    <tr>\n",
       "      <th>4</th>\n",
       "      <td>1</td>\n",
       "      <td>05-03-2010</td>\n",
       "      <td>1554806.68</td>\n",
       "      <td>0</td>\n",
       "      <td>46.50</td>\n",
       "      <td>2.625</td>\n",
       "      <td>211.350143</td>\n",
       "      <td>8.106</td>\n",
       "    </tr>\n",
       "  </tbody>\n",
       "</table>\n",
       "</div>"
      ],
      "text/plain": [
       "   Tienda       Fecha  Ventas_Semanales  vacaciones_bandera  Temperatura  \\\n",
       "0       1  05-02-2010        1643690.90                   0        42.31   \n",
       "1       1  12-02-2010        1641957.44                   1        38.51   \n",
       "2       1  19-02-2010        1611968.17                   0        39.93   \n",
       "3       1  26-02-2010        1409727.59                   0        46.63   \n",
       "4       1  05-03-2010        1554806.68                   0        46.50   \n",
       "\n",
       "   Precio_combustible         IPC  Desempleo  \n",
       "0               2.572  211.096358      8.106  \n",
       "1               2.548  211.242170      8.106  \n",
       "2               2.514  211.289143      8.106  \n",
       "3               2.561  211.319643      8.106  \n",
       "4               2.625  211.350143      8.106  "
      ]
     },
     "execution_count": 4,
     "metadata": {},
     "output_type": "execute_result"
    }
   ],
   "source": [
    "import numpy as np\n",
    "import pandas as pd\n",
    "import matplotlib.pyplot as plt\n",
    "import seaborn as sns\n",
    "from sklearn.linear_model import LinearRegression\n",
    "from sklearn.model_selection import train_test_split\n",
    "from sklearn.preprocessing import LabelEncoder\n",
    "\n",
    "\n",
    "import warnings\n",
    "warnings.filterwarnings(\"ignore\")\n",
    "\n",
    "# ----------------------------------------\n",
    "df = pd.read_csv(\"Walmart.csv\")\n",
    "df.rename({\"Store\":\"Tienda\",\"Date\":\"Fecha\", \"Weekly_Sales\":\"Ventas_Semanales\",\n",
    "          \"Holiday_Flag\": \"vacaciones_bandera\", \"Temperature\":\"Temperatura\",\n",
    "          \"Fuel_Price\": \"Precio_combustible\", \"CPI\":\"IPC\", \"Unemployment\":\"Desempleo\"}, axis = 1, inplace=True)\n",
    "\n",
    "df.head()"
   ]
  },
  {
   "cell_type": "markdown",
   "id": "d08b33b2",
   "metadata": {},
   "source": [
    "## Obtenga los descriptivos resumen de la base de datos e identifique a las variables numéricas y categóricas. ¿Hay algo que le llame la atención?"
   ]
  },
  {
   "cell_type": "markdown",
   "id": "0cd79215",
   "metadata": {},
   "source": [
    "En la base de datos exiten: \n",
    " - 7 variables numéricas\n",
    " - 1 variable categórica "
   ]
  },
  {
   "cell_type": "markdown",
   "id": "3c214c2f",
   "metadata": {},
   "source": [
    "Resumen de variables numéricas"
   ]
  },
  {
   "cell_type": "code",
   "execution_count": 5,
   "id": "6db899b0",
   "metadata": {},
   "outputs": [
    {
     "data": {
      "text/html": [
       "<div>\n",
       "<style scoped>\n",
       "    .dataframe tbody tr th:only-of-type {\n",
       "        vertical-align: middle;\n",
       "    }\n",
       "\n",
       "    .dataframe tbody tr th {\n",
       "        vertical-align: top;\n",
       "    }\n",
       "\n",
       "    .dataframe thead th {\n",
       "        text-align: right;\n",
       "    }\n",
       "</style>\n",
       "<table border=\"1\" class=\"dataframe\">\n",
       "  <thead>\n",
       "    <tr style=\"text-align: right;\">\n",
       "      <th></th>\n",
       "      <th>Tienda</th>\n",
       "      <th>Ventas_Semanales</th>\n",
       "      <th>vacaciones_bandera</th>\n",
       "      <th>Temperatura</th>\n",
       "      <th>Precio_combustible</th>\n",
       "      <th>IPC</th>\n",
       "      <th>Desempleo</th>\n",
       "    </tr>\n",
       "  </thead>\n",
       "  <tbody>\n",
       "    <tr>\n",
       "      <th>count</th>\n",
       "      <td>6435.000000</td>\n",
       "      <td>6.435000e+03</td>\n",
       "      <td>6435.000000</td>\n",
       "      <td>6435.000000</td>\n",
       "      <td>6435.000000</td>\n",
       "      <td>6435.000000</td>\n",
       "      <td>6435.000000</td>\n",
       "    </tr>\n",
       "    <tr>\n",
       "      <th>mean</th>\n",
       "      <td>23.000000</td>\n",
       "      <td>1.046965e+06</td>\n",
       "      <td>0.069930</td>\n",
       "      <td>60.663782</td>\n",
       "      <td>3.358607</td>\n",
       "      <td>171.578394</td>\n",
       "      <td>7.999151</td>\n",
       "    </tr>\n",
       "    <tr>\n",
       "      <th>std</th>\n",
       "      <td>12.988182</td>\n",
       "      <td>5.643666e+05</td>\n",
       "      <td>0.255049</td>\n",
       "      <td>18.444933</td>\n",
       "      <td>0.459020</td>\n",
       "      <td>39.356712</td>\n",
       "      <td>1.875885</td>\n",
       "    </tr>\n",
       "    <tr>\n",
       "      <th>min</th>\n",
       "      <td>1.000000</td>\n",
       "      <td>2.099862e+05</td>\n",
       "      <td>0.000000</td>\n",
       "      <td>-2.060000</td>\n",
       "      <td>2.472000</td>\n",
       "      <td>126.064000</td>\n",
       "      <td>3.879000</td>\n",
       "    </tr>\n",
       "    <tr>\n",
       "      <th>25%</th>\n",
       "      <td>12.000000</td>\n",
       "      <td>5.533501e+05</td>\n",
       "      <td>0.000000</td>\n",
       "      <td>47.460000</td>\n",
       "      <td>2.933000</td>\n",
       "      <td>131.735000</td>\n",
       "      <td>6.891000</td>\n",
       "    </tr>\n",
       "    <tr>\n",
       "      <th>50%</th>\n",
       "      <td>23.000000</td>\n",
       "      <td>9.607460e+05</td>\n",
       "      <td>0.000000</td>\n",
       "      <td>62.670000</td>\n",
       "      <td>3.445000</td>\n",
       "      <td>182.616521</td>\n",
       "      <td>7.874000</td>\n",
       "    </tr>\n",
       "    <tr>\n",
       "      <th>75%</th>\n",
       "      <td>34.000000</td>\n",
       "      <td>1.420159e+06</td>\n",
       "      <td>0.000000</td>\n",
       "      <td>74.940000</td>\n",
       "      <td>3.735000</td>\n",
       "      <td>212.743293</td>\n",
       "      <td>8.622000</td>\n",
       "    </tr>\n",
       "    <tr>\n",
       "      <th>max</th>\n",
       "      <td>45.000000</td>\n",
       "      <td>3.818686e+06</td>\n",
       "      <td>1.000000</td>\n",
       "      <td>100.140000</td>\n",
       "      <td>4.468000</td>\n",
       "      <td>227.232807</td>\n",
       "      <td>14.313000</td>\n",
       "    </tr>\n",
       "  </tbody>\n",
       "</table>\n",
       "</div>"
      ],
      "text/plain": [
       "            Tienda  Ventas_Semanales  vacaciones_bandera  Temperatura  \\\n",
       "count  6435.000000      6.435000e+03         6435.000000  6435.000000   \n",
       "mean     23.000000      1.046965e+06            0.069930    60.663782   \n",
       "std      12.988182      5.643666e+05            0.255049    18.444933   \n",
       "min       1.000000      2.099862e+05            0.000000    -2.060000   \n",
       "25%      12.000000      5.533501e+05            0.000000    47.460000   \n",
       "50%      23.000000      9.607460e+05            0.000000    62.670000   \n",
       "75%      34.000000      1.420159e+06            0.000000    74.940000   \n",
       "max      45.000000      3.818686e+06            1.000000   100.140000   \n",
       "\n",
       "       Precio_combustible          IPC    Desempleo  \n",
       "count         6435.000000  6435.000000  6435.000000  \n",
       "mean             3.358607   171.578394     7.999151  \n",
       "std              0.459020    39.356712     1.875885  \n",
       "min              2.472000   126.064000     3.879000  \n",
       "25%              2.933000   131.735000     6.891000  \n",
       "50%              3.445000   182.616521     7.874000  \n",
       "75%              3.735000   212.743293     8.622000  \n",
       "max              4.468000   227.232807    14.313000  "
      ]
     },
     "execution_count": 5,
     "metadata": {},
     "output_type": "execute_result"
    }
   ],
   "source": [
    "df.describe()"
   ]
  },
  {
   "cell_type": "markdown",
   "id": "c460a31d",
   "metadata": {},
   "source": [
    "Resumen variable categorica"
   ]
  },
  {
   "cell_type": "code",
   "execution_count": 6,
   "id": "ff471324",
   "metadata": {},
   "outputs": [
    {
     "data": {
      "text/html": [
       "<div>\n",
       "<style scoped>\n",
       "    .dataframe tbody tr th:only-of-type {\n",
       "        vertical-align: middle;\n",
       "    }\n",
       "\n",
       "    .dataframe tbody tr th {\n",
       "        vertical-align: top;\n",
       "    }\n",
       "\n",
       "    .dataframe thead th {\n",
       "        text-align: right;\n",
       "    }\n",
       "</style>\n",
       "<table border=\"1\" class=\"dataframe\">\n",
       "  <thead>\n",
       "    <tr style=\"text-align: right;\">\n",
       "      <th></th>\n",
       "      <th>Fecha</th>\n",
       "    </tr>\n",
       "  </thead>\n",
       "  <tbody>\n",
       "    <tr>\n",
       "      <th>count</th>\n",
       "      <td>6435</td>\n",
       "    </tr>\n",
       "    <tr>\n",
       "      <th>unique</th>\n",
       "      <td>143</td>\n",
       "    </tr>\n",
       "    <tr>\n",
       "      <th>top</th>\n",
       "      <td>05-02-2010</td>\n",
       "    </tr>\n",
       "    <tr>\n",
       "      <th>freq</th>\n",
       "      <td>45</td>\n",
       "    </tr>\n",
       "  </tbody>\n",
       "</table>\n",
       "</div>"
      ],
      "text/plain": [
       "             Fecha\n",
       "count         6435\n",
       "unique         143\n",
       "top     05-02-2010\n",
       "freq            45"
      ]
     },
     "execution_count": 6,
     "metadata": {},
     "output_type": "execute_result"
    }
   ],
   "source": [
    "df.describe(include=\"object\")"
   ]
  },
  {
   "cell_type": "markdown",
   "id": "d2aa056b",
   "metadata": {},
   "source": [
    "**¿hay algo que le llame la atención?**\n",
    "Dentro de la base de datos la variable más heterogénea es Ventas semanales."
   ]
  },
  {
   "cell_type": "markdown",
   "id": "6453753e",
   "metadata": {},
   "source": [
    "## Evalúe si la base contiene datos perdidos"
   ]
  },
  {
   "cell_type": "code",
   "execution_count": 7,
   "id": "f11916ca",
   "metadata": {},
   "outputs": [
    {
     "data": {
      "text/plain": [
       "Tienda                0\n",
       "Fecha                 0\n",
       "Ventas_Semanales      0\n",
       "vacaciones_bandera    0\n",
       "Temperatura           0\n",
       "Precio_combustible    0\n",
       "IPC                   0\n",
       "Desempleo             0\n",
       "dtype: int64"
      ]
     },
     "execution_count": 7,
     "metadata": {},
     "output_type": "execute_result"
    }
   ],
   "source": [
    "df.isna().sum()"
   ]
  },
  {
   "cell_type": "markdown",
   "id": "48e86945",
   "metadata": {},
   "source": [
    "Dentro de la base de datos no existen valores perdidos."
   ]
  },
  {
   "cell_type": "markdown",
   "id": "5cb02949",
   "metadata": {},
   "source": [
    "## ## Evalúe si alguna de las variables contiene datos atípicos (outliers). De ser el caso detalle cuáles y qué método estadístico aplicaran para corregir."
   ]
  },
  {
   "cell_type": "code",
   "execution_count": 8,
   "id": "320e6743",
   "metadata": {},
   "outputs": [
    {
     "data": {
      "image/png": "[encoded data removed]",
      "text/plain": [
       "<Figure size 640x480 with 1 Axes>"
      ]
     },
     "metadata": {},
     "output_type": "display_data"
    }
   ],
   "source": [
    "df.boxplot()\n",
    "plt.show()"
   ]
  },
  {
   "cell_type": "markdown",
   "id": "b6afc854",
   "metadata": {},
   "source": [
    "Como se puede observar las variables que tienen valores atípicos son: Ventas_semanales. Se procede a contar la cantidad de valores atípicos que tiene cada variable, para encontrar el mejor tratamiento para ellos. "
   ]
  },
  {
   "cell_type": "code",
   "execution_count": 9,
   "id": "e778c575",
   "metadata": {},
   "outputs": [
    {
     "name": "stdout",
     "output_type": "stream",
     "text": [
      "Número de valores atípicos en Tienda : 0\n",
      "Número de valores atípicos en Ventas_Semanales : 31\n",
      "Número de valores atípicos en vacaciones_bandera : 450\n",
      "Número de valores atípicos en Temperatura : 1\n",
      "Número de valores atípicos en Precio_combustible : 0\n",
      "Número de valores atípicos en IPC : 0\n",
      "Número de valores atípicos en Desempleo : 219\n"
     ]
    }
   ],
   "source": [
    "def count_outliers(datos):\n",
    "    media = np.mean(datos)\n",
    "    desviacion_estandar = np.std(datos)\n",
    "    limite_inferior = media - (3 * desviacion_estandar)\n",
    "    limite_superior = media + (3 * desviacion_estandar)\n",
    "    outliers = [x for x in datos if x < limite_inferior or x > limite_superior]\n",
    "    return len(outliers)\n",
    "\n",
    "for col in df.columns:\n",
    "    if df[col].dtype == 'int64' or df[col].dtype == 'float64':\n",
    "        num_outliers = count_outliers(df[col])\n",
    "        print(\"Número de valores atípicos en\", col, \":\", num_outliers)"
   ]
  },
  {
   "cell_type": "code",
   "execution_count": 10,
   "id": "d2a8c590",
   "metadata": {},
   "outputs": [],
   "source": [
    "for col in df.columns:\n",
    "    if df[col].dtype == 'int64' or df[col].dtype == 'float64':\n",
    "        q1, q3 = np.percentile(df[col], [25, 75])\n",
    "        iqr = q3 - q1\n",
    "        limite_inferior = q1 - (1.5 * iqr)\n",
    "        limite_superior = q3 + (1.5 * iqr)\n",
    "        df[col] = np.where(df[col] < limite_inferior, np.nan, df[col])\n",
    "        df[col] = np.where(df[col] > limite_superior, np.nan, df[col])\n",
    "        df[col] = df[col].fillna(df[col].median())"
   ]
  },
  {
   "cell_type": "code",
   "execution_count": 11,
   "id": "daffb1b6",
   "metadata": {},
   "outputs": [
    {
     "name": "stdout",
     "output_type": "stream",
     "text": [
      "Número de valores atípicos en Tienda : 0\n",
      "Número de valores atípicos en Ventas_Semanales : 2\n",
      "Número de valores atípicos en vacaciones_bandera : 0\n",
      "Número de valores atípicos en Temperatura : 0\n",
      "Número de valores atípicos en Precio_combustible : 0\n",
      "Número de valores atípicos en IPC : 0\n",
      "Número de valores atípicos en Desempleo : 0\n"
     ]
    }
   ],
   "source": [
    "for col in df.columns:\n",
    "    if df[col].dtype == 'int64' or df[col].dtype == 'float64':\n",
    "        num_outliers = count_outliers(df[col])\n",
    "        print(\"Número de valores atípicos en\", col, \":\", num_outliers)"
   ]
  },
  {
   "cell_type": "markdown",
   "id": "5180a300",
   "metadata": {},
   "source": [
    "Como se puede observar la nueva base de datos ya no consta de valores atípicos."
   ]
  },
  {
   "cell_type": "markdown",
   "id": "37f3627e",
   "metadata": {},
   "source": [
    "## Grafique las distribuciones de las variables y a priori comente sobre ellas."
   ]
  },
  {
   "cell_type": "code",
   "execution_count": 12,
   "id": "cbd4c26f",
   "metadata": {},
   "outputs": [
    {
     "data": {
      "image/png": "[encoded data removed]",
      "text/plain": [
       "<Figure size 640x480 with 9 Axes>"
      ]
     },
     "metadata": {},
     "output_type": "display_data"
    }
   ],
   "source": [
    "df.hist()\n",
    "plt.show()"
   ]
  },
  {
   "cell_type": "markdown",
   "id": "7d318acf",
   "metadata": {},
   "source": [
    "Para cada una de las variables se van a interpretar a priori con base en los siguientes puntos:\n",
    "\n",
    "- Forma de la distribución: \n",
    "    - **Tienda:** Es asimétrica y tiene un valle muy extendido.\n",
    "    - **Ventas_Semanales:** Es simétrica y tiene un pico muy cercano a 20\n",
    "    - **Vacaciones_Bandera:** Es asimétricas con sesgo a la derecha\n",
    "    - **Temperatura:** Es asimétrica y tiene un valle muy extendido.\n",
    "    - **Precio_combustible:**  Es asimétrica y tiene un valle muy extendido.\n",
    "    - **IPC:** Es asimétrica y tiene un valle muy extendido.\n",
    "    - **Desempleto:** Es asimétrica y tiene un valle muy extendido.\n",
    "- Centralidad:\n",
    "    - **Tienda:** La media = 23.000000\t y mediana 23.000000 son similares\n",
    "    - **Ventas_Semanales:** La media = 1.035714e+06\t y mediana 9.572983e+05 son similares\n",
    "    - **Vacaciones_Bandera:** La media = 0.\t y mediana 0 son similares\n",
    "    - **Temperatura:** La media = 60.691495\t y mediana 62.680000 son similares\n",
    "    - **Precio_combustible:** La media = 3.358607\t y mediana 3.445000\t son similares\n",
    "    - **IPC:** La media = 171.578394\t y mediana 182.616521 son similares\n",
    "    - **Desempleto:** La media = 7.730398\t y mediana 7.852000 son similares\n",
    "- Dispersión: \n",
    "    - **Tienda:** Homogenea\n",
    "    - **Ventas_Semanales:** Homogenea\n",
    "    - **Vacaciones_Bandera:** Homogenea\n",
    "    - **Temperatura:** Homogenea\n",
    "    - **Precio_combustible:** Homogenea.\n",
    "    - **IPC:** EHomogenea\n",
    "    - **Desempleto:** Homogenea\n",
    "- Escala: \n",
    "    - Todas las variables se encuentran en la misma escala que es intervalo. "
   ]
  },
  {
   "cell_type": "markdown",
   "id": "386f4175",
   "metadata": {},
   "source": [
    "## Obtenga las correlaciones entre los datos de corte numérico"
   ]
  },
  {
   "cell_type": "code",
   "execution_count": 17,
   "id": "fc44b8bd",
   "metadata": {},
   "outputs": [
    {
     "name": "stdout",
     "output_type": "stream",
     "text": [
      "                      Tienda  Ventas_Semanales  vacaciones_bandera  \\\n",
      "Tienda              1.000000         -0.331459                 NaN   \n",
      "Ventas_Semanales   -0.331459          1.000000                 NaN   \n",
      "vacaciones_bandera       NaN               NaN                 NaN   \n",
      "Temperatura        -0.023493         -0.044038                 NaN   \n",
      "Precio_combustible  0.060023          0.018490                 NaN   \n",
      "IPC                -0.209492         -0.069201                 NaN   \n",
      "Desempleo           0.301861         -0.071436                 NaN   \n",
      "\n",
      "                    Temperatura  Precio_combustible       IPC  Desempleo  \n",
      "Tienda                -0.023493            0.060023 -0.209492   0.301861  \n",
      "Ventas_Semanales      -0.044038            0.018490 -0.069201  -0.071436  \n",
      "vacaciones_bandera          NaN                 NaN       NaN        NaN  \n",
      "Temperatura            1.000000            0.144290  0.176561   0.027589  \n",
      "Precio_combustible     0.144290            1.000000 -0.170642  -0.095637  \n",
      "IPC                    0.176561           -0.170642  1.000000  -0.214787  \n",
      "Desempleo              0.027589           -0.095637 -0.214787   1.000000  \n"
     ]
    }
   ],
   "source": [
    "correlaciones = df.corr()\n",
    "print(correlaciones)"
   ]
  },
  {
   "cell_type": "code",
   "execution_count": 18,
   "id": "4ef8f97a",
   "metadata": {},
   "outputs": [],
   "source": [
    "df = df.drop(columns=[\"vacaciones_bandera\"])"
   ]
  },
  {
   "cell_type": "code",
   "execution_count": 19,
   "id": "99a224f3",
   "metadata": {},
   "outputs": [
    {
     "name": "stdout",
     "output_type": "stream",
     "text": [
      "                      Tienda  Ventas_Semanales  Temperatura  \\\n",
      "Tienda              1.000000         -0.331459    -0.023493   \n",
      "Ventas_Semanales   -0.331459          1.000000    -0.044038   \n",
      "Temperatura        -0.023493         -0.044038     1.000000   \n",
      "Precio_combustible  0.060023          0.018490     0.144290   \n",
      "IPC                -0.209492         -0.069201     0.176561   \n",
      "Desempleo           0.301861         -0.071436     0.027589   \n",
      "\n",
      "                    Precio_combustible       IPC  Desempleo  \n",
      "Tienda                        0.060023 -0.209492   0.301861  \n",
      "Ventas_Semanales              0.018490 -0.069201  -0.071436  \n",
      "Temperatura                   0.144290  0.176561   0.027589  \n",
      "Precio_combustible            1.000000 -0.170642  -0.095637  \n",
      "IPC                          -0.170642  1.000000  -0.214787  \n",
      "Desempleo                    -0.095637 -0.214787   1.000000  \n"
     ]
    }
   ],
   "source": [
    "correlaciones = df.corr()\n",
    "print(correlaciones)"
   ]
  },
  {
   "cell_type": "markdown",
   "id": "ee70643e",
   "metadata": {},
   "source": [
    "Se elimino la variable \"vacaciones_bandera\" pues no tiene ninguna correlación con las demas. Por otro lado, la mayoria de las variables no tiene una correlación fuerte, sino leve de forma positiva o negativa."
   ]
  },
  {
   "cell_type": "markdown",
   "id": "8b34fadc",
   "metadata": {},
   "source": [
    "## Indique que tipo de modelación realizarán y porqué."
   ]
  },
  {
   "cell_type": "code",
   "execution_count": 18,
   "id": "fab9b6e0",
   "metadata": {},
   "outputs": [],
   "source": [
    "df=df.set_index(['Fecha', 'Tienda'])"
   ]
  },
  {
   "cell_type": "code",
   "execution_count": 21,
   "id": "97667054",
   "metadata": {},
   "outputs": [],
   "source": [
    "fecha = df.index.get_level_values('Fecha').to_list()\n",
    "df['Fecha'] = pd.Categorical(fecha)"
   ]
  },
  {
   "cell_type": "code",
   "execution_count": 23,
   "id": "87ea5ebc",
   "metadata": {},
   "outputs": [
    {
     "name": "stdout",
     "output_type": "stream",
     "text": [
      "Collecting linearmodels\n",
      "  Downloading linearmodels-4.31-cp38-cp38-win_amd64.whl (1.9 MB)\n",
      "     ---------------------------------------- 1.9/1.9 MB 3.0 MB/s eta 0:00:00\n",
      "Requirement already satisfied: statsmodels>=0.11 in c:\\users\\user\\anaconda3\\lib\\site-packages (from linearmodels) (0.13.2)\n",
      "Requirement already satisfied: scipy>=1.2 in c:\\users\\user\\anaconda3\\lib\\site-packages (from linearmodels) (1.7.3)\n",
      "Collecting setuptools-scm[toml]>=7.0.0\n",
      "  Downloading setuptools_scm-7.1.0-py3-none-any.whl (43 kB)\n",
      "     ---------------------------------------- 43.8/43.8 kB 2.2 MB/s eta 0:00:00\n",
      "Collecting property-cached>=1.6.3\n",
      "  Downloading property_cached-1.6.4-py2.py3-none-any.whl (7.8 kB)\n",
      "Requirement already satisfied: pandas>=0.24 in c:\\users\\user\\anaconda3\\lib\\site-packages (from linearmodels) (1.4.4)\n",
      "Requirement already satisfied: mypy-extensions>=0.4 in c:\\users\\user\\anaconda3\\lib\\site-packages (from linearmodels) (0.4.3)\n",
      "Collecting formulaic>=0.3.2\n",
      "  Downloading formulaic-0.6.1-py3-none-any.whl (82 kB)\n",
      "     ---------------------------------------- 82.3/82.3 kB 4.5 MB/s eta 0:00:00\n",
      "Collecting pyhdfe>=0.1\n",
      "  Downloading pyhdfe-0.1.2-py3-none-any.whl (18 kB)\n",
      "Requirement already satisfied: Cython>=0.29.21 in c:\\users\\user\\anaconda3\\lib\\site-packages (from linearmodels) (0.29.32)\n",
      "Requirement already satisfied: numpy>=1.16 in c:\\users\\user\\anaconda3\\lib\\site-packages (from linearmodels) (1.21.5)\n",
      "Requirement already satisfied: wrapt>=1.0 in c:\\users\\user\\anaconda3\\lib\\site-packages (from formulaic>=0.3.2->linearmodels) (1.14.1)\n",
      "Collecting interface-meta>=1.2.0\n",
      "  Downloading interface_meta-1.3.0-py3-none-any.whl (14 kB)\n",
      "Collecting graphlib-backport>=1.0.0\n",
      "  Downloading graphlib_backport-1.0.3-py3-none-any.whl (5.1 kB)\n",
      "Collecting astor>=0.8\n",
      "  Using cached astor-0.8.1-py2.py3-none-any.whl (27 kB)\n",
      "Requirement already satisfied: typing-extensions>=4.2.0 in c:\\users\\user\\anaconda3\\lib\\site-packages (from formulaic>=0.3.2->linearmodels) (4.3.0)\n",
      "Requirement already satisfied: pytz>=2020.1 in c:\\users\\user\\anaconda3\\lib\\site-packages (from pandas>=0.24->linearmodels) (2023.3)\n",
      "Requirement already satisfied: python-dateutil>=2.8.1 in c:\\users\\user\\anaconda3\\lib\\site-packages (from pandas>=0.24->linearmodels) (2.8.2)\n",
      "Requirement already satisfied: setuptools in c:\\users\\user\\anaconda3\\lib\\site-packages (from setuptools-scm[toml]>=7.0.0->linearmodels) (63.4.1)\n",
      "Requirement already satisfied: packaging>=20.0 in c:\\users\\user\\anaconda3\\lib\\site-packages (from setuptools-scm[toml]>=7.0.0->linearmodels) (21.3)\n",
      "Requirement already satisfied: tomli>=1.0.0 in c:\\users\\user\\anaconda3\\lib\\site-packages (from setuptools-scm[toml]>=7.0.0->linearmodels) (2.0.1)\n",
      "Requirement already satisfied: patsy>=0.5.2 in c:\\users\\user\\anaconda3\\lib\\site-packages (from statsmodels>=0.11->linearmodels) (0.5.2)\n",
      "Requirement already satisfied: pyparsing!=3.0.5,>=2.0.2 in c:\\users\\user\\anaconda3\\lib\\site-packages (from packaging>=20.0->setuptools-scm[toml]>=7.0.0->linearmodels) (3.0.9)\n",
      "Requirement already satisfied: six in c:\\users\\user\\anaconda3\\lib\\site-packages (from patsy>=0.5.2->statsmodels>=0.11->linearmodels) (1.16.0)\n",
      "Installing collected packages: property-cached, interface-meta, graphlib-backport, astor, setuptools-scm, pyhdfe, formulaic, linearmodels\n",
      "Successfully installed astor-0.8.1 formulaic-0.6.1 graphlib-backport-1.0.3 interface-meta-1.3.0 linearmodels-4.31 property-cached-1.6.4 pyhdfe-0.1.2 setuptools-scm-7.1.0\n",
      "Note: you may need to restart the kernel to use updated packages.\n"
     ]
    }
   ],
   "source": [
    "pip install linearmodels"
   ]
  },
  {
   "cell_type": "code",
   "execution_count": 24,
   "id": "2f720efc",
   "metadata": {},
   "outputs": [],
   "source": [
    "from linearmodels import PooledOLS\n",
    "import statsmodels.api as sm"
   ]
  },
  {
   "cell_type": "code",
   "execution_count": 28,
   "id": "edfd3b9d",
   "metadata": {},
   "outputs": [],
   "source": [
    "X = sm.tools.tools.add_constant(df.Ventas_Semanales)\n",
    "y = df.IPC "
   ]
  },
  {
   "cell_type": "code",
   "execution_count": 29,
   "id": "149f03d8",
   "metadata": {},
   "outputs": [],
   "source": [
    "modelo1 = PooledOLS(y, X)\n",
    "resultados_pooled_OLS = modelo1.fit(cov_type='clustered', cluster_entity=True)"
   ]
  },
  {
   "cell_type": "code",
   "execution_count": 30,
   "id": "bd36b508",
   "metadata": {},
   "outputs": [],
   "source": [
    "# Store values for checking homoskedasticity graphically\n",
    "predicciones_pooled_OLS = resultados_pooled_OLS.predict().fitted_values\n",
    "residuos_pooled_OLS = resultados_pooled_OLS.resids"
   ]
  },
  {
   "cell_type": "code",
   "execution_count": 31,
   "id": "0b84339f",
   "metadata": {},
   "outputs": [
    {
     "data": {
      "text/html": [
       "<table class=\"simpletable\">\n",
       "<caption>PooledOLS Estimation Summary</caption>\n",
       "<tr>\n",
       "  <th>Dep. Variable:</th>           <td>IPC</td>       <th>  R-squared:         </th>     <td>0.0048</td>  \n",
       "</tr>\n",
       "<tr>\n",
       "  <th>Estimator:</th>            <td>PooledOLS</td>    <th>  R-squared (Between):</th>    <td>-0.0346</td> \n",
       "</tr>\n",
       "<tr>\n",
       "  <th>No. Observations:</th>       <td>6435</td>       <th>  R-squared (Within):</th>     <td>0.0050</td>  \n",
       "</tr>\n",
       "<tr>\n",
       "  <th>Date:</th>             <td>Mon, May 22 2023</td> <th>  R-squared (Overall):</th>    <td>0.0048</td>  \n",
       "</tr>\n",
       "<tr>\n",
       "  <th>Time:</th>                 <td>15:45:38</td>     <th>  Log-likelihood     </th>   <td>-3.275e+04</td>\n",
       "</tr>\n",
       "<tr>\n",
       "  <th>Cov. Estimator:</th>       <td>Clustered</td>    <th>                     </th>        <td></td>     \n",
       "</tr>\n",
       "<tr>\n",
       "  <th></th>                          <td></td>         <th>  F-statistic:       </th>     <td>30.954</td>  \n",
       "</tr>\n",
       "<tr>\n",
       "  <th>Entities:</th>                <td>143</td>       <th>  P-value            </th>     <td>0.0000</td>  \n",
       "</tr>\n",
       "<tr>\n",
       "  <th>Avg Obs:</th>               <td>45.000</td>      <th>  Distribution:      </th>    <td>F(1,6433)</td>\n",
       "</tr>\n",
       "<tr>\n",
       "  <th>Min Obs:</th>               <td>45.000</td>      <th>                     </th>        <td></td>     \n",
       "</tr>\n",
       "<tr>\n",
       "  <th>Max Obs:</th>               <td>45.000</td>      <th>  F-statistic (robust):</th>   <td>619.85</td>  \n",
       "</tr>\n",
       "<tr>\n",
       "  <th></th>                          <td></td>         <th>  P-value            </th>     <td>0.0000</td>  \n",
       "</tr>\n",
       "<tr>\n",
       "  <th>Time periods:</th>            <td>45</td>        <th>  Distribution:      </th>    <td>F(1,6433)</td>\n",
       "</tr>\n",
       "<tr>\n",
       "  <th>Avg Obs:</th>               <td>143.00</td>      <th>                     </th>        <td></td>     \n",
       "</tr>\n",
       "<tr>\n",
       "  <th>Min Obs:</th>               <td>143.00</td>      <th>                     </th>        <td></td>     \n",
       "</tr>\n",
       "<tr>\n",
       "  <th>Max Obs:</th>               <td>143.00</td>      <th>                     </th>        <td></td>     \n",
       "</tr>\n",
       "<tr>\n",
       "  <th></th>                          <td></td>         <th>                     </th>        <td></td>     \n",
       "</tr>\n",
       "</table>\n",
       "<table class=\"simpletable\">\n",
       "<caption>Parameter Estimates</caption>\n",
       "<tr>\n",
       "          <td></td>          <th>Parameter</th> <th>Std. Err.</th> <th>T-stat</th>  <th>P-value</th>  <th>Lower CI</th>   <th>Upper CI</th> \n",
       "</tr>\n",
       "<tr>\n",
       "  <th>const</th>              <td>176.77</td>    <td>0.3162</td>   <td>559.05</td>  <td>0.0000</td>    <td>176.15</td>     <td>177.39</td>  \n",
       "</tr>\n",
       "<tr>\n",
       "  <th>Ventas_Semanales</th> <td>-5.008e-06</td> <td>2.012e-07</td> <td>-24.897</td> <td>0.0000</td>  <td>-5.403e-06</td> <td>-4.614e-06</td>\n",
       "</tr>\n",
       "</table><br/>id: 0x231843bc220"
      ],
      "text/plain": [
       "                          PooledOLS Estimation Summary                          \n",
       "================================================================================\n",
       "Dep. Variable:                    IPC   R-squared:                        0.0048\n",
       "Estimator:                  PooledOLS   R-squared (Between):             -0.0346\n",
       "No. Observations:                6435   R-squared (Within):               0.0050\n",
       "Date:                Mon, May 22 2023   R-squared (Overall):              0.0048\n",
       "Time:                        15:45:38   Log-likelihood                -3.275e+04\n",
       "Cov. Estimator:             Clustered                                           \n",
       "                                        F-statistic:                      30.954\n",
       "Entities:                         143   P-value                           0.0000\n",
       "Avg Obs:                       45.000   Distribution:                  F(1,6433)\n",
       "Min Obs:                       45.000                                           \n",
       "Max Obs:                       45.000   F-statistic (robust):             619.85\n",
       "                                        P-value                           0.0000\n",
       "Time periods:                      45   Distribution:                  F(1,6433)\n",
       "Avg Obs:                       143.00                                           \n",
       "Min Obs:                       143.00                                           \n",
       "Max Obs:                       143.00                                           \n",
       "                                                                                \n",
       "                                Parameter Estimates                                 \n",
       "====================================================================================\n",
       "                  Parameter  Std. Err.     T-stat    P-value    Lower CI    Upper CI\n",
       "------------------------------------------------------------------------------------\n",
       "const                176.77     0.3162     559.05     0.0000      176.15      177.39\n",
       "Ventas_Semanales -5.008e-06  2.012e-07    -24.897     0.0000  -5.403e-06  -4.614e-06\n",
       "====================================================================================\n",
       "PanelResults, id: 0x231843bc220"
      ]
     },
     "execution_count": 31,
     "metadata": {},
     "output_type": "execute_result"
    }
   ],
   "source": [
    "resultados_pooled_OLS"
   ]
  },
  {
   "cell_type": "markdown",
   "id": "e5f88245",
   "metadata": {},
   "source": [
    "Lo primero que hay que tener en cuenta en los resultados del modelo, es que el valor de los coeficientes ajustados, en este caso las Ventas_semanales, son significativos, lo cual es un buen indicador."
   ]
  },
  {
   "cell_type": "markdown",
   "id": "68109ce0",
   "metadata": {},
   "source": [
    "Adicionalmente, podemos fijarnos en el R-cuadrado ajustado que mide la fracción de la varianza total en \"y\" que es explicada por \"X\" después de tener en cuenta los grados de libertad perdidos debido a la inclusión de variables de regresión es 0.0048, bastante bajo."
   ]
  },
  {
   "cell_type": "markdown",
   "id": "d55a62bf",
   "metadata": {},
   "source": [
    "La prueba F para la regresión que mide la significación conjunta de los parámetros del modelo ha producido una estadística de prueba de 619.85 con un valor p de 0, lo que nos lleva a concluir que las estimaciones del coeficiente del modelo son significativas en conjunto con una p < 0.005 ."
   ]
  },
  {
   "cell_type": "markdown",
   "id": "dee8bcd1",
   "metadata": {},
   "source": [
    "## Verifique los supuestos, de haber escogido el enfoque econométrico. "
   ]
  },
  {
   "cell_type": "markdown",
   "id": "c52b270e",
   "metadata": {},
   "source": [
    "### Homocedasticidad"
   ]
  },
  {
   "cell_type": "code",
   "execution_count": 32,
   "id": "3443715b",
   "metadata": {},
   "outputs": [
    {
     "data": {
      "image/png": "[encoded data removed]",
      "text/plain": [
       "<Figure size 640x480 with 1 Axes>"
      ]
     },
     "metadata": {},
     "output_type": "display_data"
    }
   ],
   "source": [
    "fig, ax = plt.subplots()\n",
    "ax.scatter(predicciones_pooled_OLS, residuos_pooled_OLS)\n",
    "ax.axhline(0, color = 'r', ls = '--')\n",
    "ax.set_xlabel('Predicciones', fontsize = 15)\n",
    "ax.set_ylabel('Residuos', fontsize = 15)\n",
    "ax.set_title('Evaluación de homocedasticidad', fontsize = 18)\n",
    "plt.show()"
   ]
  },
  {
   "cell_type": "markdown",
   "id": "5bc428ab",
   "metadata": {},
   "source": [
    "De la gráfica, y como los puntos se dispersan, tenemos un indicador de varianza creciente y, por lo tanto, de heteroscedasticidad."
   ]
  },
  {
   "cell_type": "code",
   "execution_count": 33,
   "id": "1107e5b1",
   "metadata": {},
   "outputs": [],
   "source": [
    "from statsmodels.stats.diagnostic import het_breuschpagan"
   ]
  },
  {
   "cell_type": "code",
   "execution_count": 36,
   "id": "c75113ab",
   "metadata": {},
   "outputs": [],
   "source": [
    "pooled_OLS_df = pd.concat([df, residuos_pooled_OLS], axis=1)\n",
    "pooled_OLS_df = pooled_OLS_df.drop(['Fecha'], axis = 1).fillna(0)\n",
    "X_ = sm.tools.tools.add_constant(df['Ventas_Semanales']).fillna(0)"
   ]
  },
  {
   "cell_type": "code",
   "execution_count": 37,
   "id": "fa478295",
   "metadata": {},
   "outputs": [
    {
     "data": {
      "text/html": [
       "<div>\n",
       "<style scoped>\n",
       "    .dataframe tbody tr th:only-of-type {\n",
       "        vertical-align: middle;\n",
       "    }\n",
       "\n",
       "    .dataframe tbody tr th {\n",
       "        vertical-align: top;\n",
       "    }\n",
       "\n",
       "    .dataframe thead th {\n",
       "        text-align: right;\n",
       "    }\n",
       "</style>\n",
       "<table border=\"1\" class=\"dataframe\">\n",
       "  <thead>\n",
       "    <tr style=\"text-align: right;\">\n",
       "      <th></th>\n",
       "      <th></th>\n",
       "      <th>Ventas_Semanales</th>\n",
       "      <th>Temperatura</th>\n",
       "      <th>Precio_combustible</th>\n",
       "      <th>IPC</th>\n",
       "      <th>Desempleo</th>\n",
       "      <th>residual</th>\n",
       "    </tr>\n",
       "    <tr>\n",
       "      <th>Fecha</th>\n",
       "      <th>Tienda</th>\n",
       "      <th></th>\n",
       "      <th></th>\n",
       "      <th></th>\n",
       "      <th></th>\n",
       "      <th></th>\n",
       "      <th></th>\n",
       "    </tr>\n",
       "  </thead>\n",
       "  <tbody>\n",
       "    <tr>\n",
       "      <th>05-02-2010</th>\n",
       "      <th>1.0</th>\n",
       "      <td>1643690.90</td>\n",
       "      <td>42.31</td>\n",
       "      <td>2.572</td>\n",
       "      <td>211.096358</td>\n",
       "      <td>8.106</td>\n",
       "      <td>42.562995</td>\n",
       "    </tr>\n",
       "    <tr>\n",
       "      <th>12-02-2010</th>\n",
       "      <th>1.0</th>\n",
       "      <td>1641957.44</td>\n",
       "      <td>38.51</td>\n",
       "      <td>2.548</td>\n",
       "      <td>211.242170</td>\n",
       "      <td>8.106</td>\n",
       "      <td>42.700125</td>\n",
       "    </tr>\n",
       "    <tr>\n",
       "      <th>19-02-2010</th>\n",
       "      <th>1.0</th>\n",
       "      <td>1611968.17</td>\n",
       "      <td>39.93</td>\n",
       "      <td>2.514</td>\n",
       "      <td>211.289143</td>\n",
       "      <td>8.106</td>\n",
       "      <td>42.596898</td>\n",
       "    </tr>\n",
       "    <tr>\n",
       "      <th>26-02-2010</th>\n",
       "      <th>1.0</th>\n",
       "      <td>1409727.59</td>\n",
       "      <td>46.63</td>\n",
       "      <td>2.561</td>\n",
       "      <td>211.319643</td>\n",
       "      <td>8.106</td>\n",
       "      <td>41.614483</td>\n",
       "    </tr>\n",
       "    <tr>\n",
       "      <th>05-03-2010</th>\n",
       "      <th>1.0</th>\n",
       "      <td>1554806.68</td>\n",
       "      <td>46.50</td>\n",
       "      <td>2.625</td>\n",
       "      <td>211.350143</td>\n",
       "      <td>8.106</td>\n",
       "      <td>42.371606</td>\n",
       "    </tr>\n",
       "    <tr>\n",
       "      <th>...</th>\n",
       "      <th>...</th>\n",
       "      <td>...</td>\n",
       "      <td>...</td>\n",
       "      <td>...</td>\n",
       "      <td>...</td>\n",
       "      <td>...</td>\n",
       "      <td>...</td>\n",
       "    </tr>\n",
       "    <tr>\n",
       "      <th>28-09-2012</th>\n",
       "      <th>45.0</th>\n",
       "      <td>713173.95</td>\n",
       "      <td>64.88</td>\n",
       "      <td>3.997</td>\n",
       "      <td>192.013558</td>\n",
       "      <td>8.684</td>\n",
       "      <td>18.819735</td>\n",
       "    </tr>\n",
       "    <tr>\n",
       "      <th>05-10-2012</th>\n",
       "      <th>45.0</th>\n",
       "      <td>733455.07</td>\n",
       "      <td>64.89</td>\n",
       "      <td>3.985</td>\n",
       "      <td>192.170412</td>\n",
       "      <td>8.667</td>\n",
       "      <td>19.078166</td>\n",
       "    </tr>\n",
       "    <tr>\n",
       "      <th>12-10-2012</th>\n",
       "      <th>45.0</th>\n",
       "      <td>734464.36</td>\n",
       "      <td>54.47</td>\n",
       "      <td>4.000</td>\n",
       "      <td>192.327265</td>\n",
       "      <td>8.667</td>\n",
       "      <td>19.240075</td>\n",
       "    </tr>\n",
       "    <tr>\n",
       "      <th>19-10-2012</th>\n",
       "      <th>45.0</th>\n",
       "      <td>718125.53</td>\n",
       "      <td>56.47</td>\n",
       "      <td>3.969</td>\n",
       "      <td>192.330854</td>\n",
       "      <td>8.667</td>\n",
       "      <td>19.161831</td>\n",
       "    </tr>\n",
       "    <tr>\n",
       "      <th>26-10-2012</th>\n",
       "      <th>45.0</th>\n",
       "      <td>760281.43</td>\n",
       "      <td>58.85</td>\n",
       "      <td>3.882</td>\n",
       "      <td>192.308899</td>\n",
       "      <td>8.667</td>\n",
       "      <td>19.351012</td>\n",
       "    </tr>\n",
       "  </tbody>\n",
       "</table>\n",
       "<p>6435 rows × 6 columns</p>\n",
       "</div>"
      ],
      "text/plain": [
       "                   Ventas_Semanales  Temperatura  Precio_combustible  \\\n",
       "Fecha      Tienda                                                      \n",
       "05-02-2010 1.0           1643690.90        42.31               2.572   \n",
       "12-02-2010 1.0           1641957.44        38.51               2.548   \n",
       "19-02-2010 1.0           1611968.17        39.93               2.514   \n",
       "26-02-2010 1.0           1409727.59        46.63               2.561   \n",
       "05-03-2010 1.0           1554806.68        46.50               2.625   \n",
       "...                             ...          ...                 ...   \n",
       "28-09-2012 45.0           713173.95        64.88               3.997   \n",
       "05-10-2012 45.0           733455.07        64.89               3.985   \n",
       "12-10-2012 45.0           734464.36        54.47               4.000   \n",
       "19-10-2012 45.0           718125.53        56.47               3.969   \n",
       "26-10-2012 45.0           760281.43        58.85               3.882   \n",
       "\n",
       "                          IPC  Desempleo    residual  \n",
       "Fecha      Tienda                                     \n",
       "05-02-2010 1.0     211.096358       8.106  42.562995  \n",
       "12-02-2010 1.0     211.242170       8.106  42.700125  \n",
       "19-02-2010 1.0     211.289143       8.106  42.596898  \n",
       "26-02-2010 1.0     211.319643       8.106  41.614483  \n",
       "05-03-2010 1.0     211.350143       8.106  42.371606  \n",
       "...                       ...         ...        ...  \n",
       "28-09-2012 45.0    192.013558       8.684  18.819735  \n",
       "05-10-2012 45.0    192.170412       8.667  19.078166  \n",
       "12-10-2012 45.0    192.327265       8.667  19.240075  \n",
       "19-10-2012 45.0    192.330854       8.667  19.161831  \n",
       "26-10-2012 45.0    192.308899       8.667  19.351012  \n",
       "\n",
       "[6435 rows x 6 columns]"
      ]
     },
     "execution_count": 37,
     "metadata": {},
     "output_type": "execute_result"
    }
   ],
   "source": [
    "pooled_OLS_df"
   ]
  },
  {
   "cell_type": "code",
   "execution_count": 38,
   "id": "f1d37236",
   "metadata": {},
   "outputs": [
    {
     "name": "stdout",
     "output_type": "stream",
     "text": [
      "{'LM-Stat': 18.428979569756688, 'LM p-val': 1.7635545016947307e-05, 'F-Stat': 18.476165103568977, 'F p-val': 1.7458111498119532e-05}\n"
     ]
    }
   ],
   "source": [
    "breusch_pagan = het_breuschpagan(pooled_OLS_df.residual, X_)\n",
    "labels = ['LM-Stat', 'LM p-val', 'F-Stat', 'F p-val'] \n",
    "print(dict(zip(labels, breusch_pagan)))"
   ]
  },
  {
   "cell_type": "markdown",
   "id": "fbfa016b",
   "metadata": {},
   "source": [
    "Como el p-valor del estadístico de Breush-Pagan es < 0.05 (1.7635545016947307e-05), entonces se rechaza la hipótesis nula, y por lo tanto estamos en la presencia de heterocedasticidad en el término del error."
   ]
  },
  {
   "cell_type": "markdown",
   "id": "23c915e5",
   "metadata": {},
   "source": [
    "### No- autocorrelación"
   ]
  },
  {
   "cell_type": "code",
   "execution_count": 39,
   "id": "1e0790b0",
   "metadata": {},
   "outputs": [],
   "source": [
    "from statsmodels.stats.stattools import durbin_watson"
   ]
  },
  {
   "cell_type": "code",
   "execution_count": 40,
   "id": "69e98c5a",
   "metadata": {},
   "outputs": [
    {
     "name": "stdout",
     "output_type": "stream",
     "text": [
      "0.015293079089814794\n"
     ]
    }
   ],
   "source": [
    "durbin_watson = durbin_watson(pooled_OLS_df.residual) \n",
    "print(durbin_watson)"
   ]
  },
  {
   "cell_type": "markdown",
   "id": "8f1ea873",
   "metadata": {},
   "source": [
    "En nuestro ejercicio, el resultado es 0.01529, lo que indica claramente una fuerte autocorrelación positiva, violándose el supuesto."
   ]
  },
  {
   "cell_type": "markdown",
   "id": "9e8b2593",
   "metadata": {},
   "source": [
    "Como las dos secciones del tercer supuesto fueron contradichas, a seguir exploraremos los modelos de efectos fijos y efectos aleatorios:"
   ]
  },
  {
   "cell_type": "code",
   "execution_count": 41,
   "id": "90dfe493",
   "metadata": {},
   "outputs": [
    {
     "data": {
      "text/html": [
       "<table class=\"simpletable\">\n",
       "<caption>PanelOLS Estimation Summary</caption>\n",
       "<tr>\n",
       "  <th>Dep. Variable:</th>           <td>IPC</td>       <th>  R-squared:         </th>     <td>0.0050</td>  \n",
       "</tr>\n",
       "<tr>\n",
       "  <th>Estimator:</th>            <td>PanelOLS</td>     <th>  R-squared (Between):</th>    <td>-0.0362</td> \n",
       "</tr>\n",
       "<tr>\n",
       "  <th>No. Observations:</th>       <td>6435</td>       <th>  R-squared (Within):</th>     <td>0.0050</td>  \n",
       "</tr>\n",
       "<tr>\n",
       "  <th>Date:</th>             <td>Mon, May 22 2023</td> <th>  R-squared (Overall):</th>    <td>0.0048</td>  \n",
       "</tr>\n",
       "<tr>\n",
       "  <th>Time:</th>                 <td>15:58:09</td>     <th>  Log-likelihood     </th>   <td>-3.273e+04</td>\n",
       "</tr>\n",
       "<tr>\n",
       "  <th>Cov. Estimator:</th>      <td>Unadjusted</td>    <th>                     </th>        <td></td>     \n",
       "</tr>\n",
       "<tr>\n",
       "  <th></th>                          <td></td>         <th>  F-statistic:       </th>     <td>31.854</td>  \n",
       "</tr>\n",
       "<tr>\n",
       "  <th>Entities:</th>                <td>143</td>       <th>  P-value            </th>     <td>0.0000</td>  \n",
       "</tr>\n",
       "<tr>\n",
       "  <th>Avg Obs:</th>               <td>45.000</td>      <th>  Distribution:      </th>    <td>F(1,6291)</td>\n",
       "</tr>\n",
       "<tr>\n",
       "  <th>Min Obs:</th>               <td>45.000</td>      <th>                     </th>        <td></td>     \n",
       "</tr>\n",
       "<tr>\n",
       "  <th>Max Obs:</th>               <td>45.000</td>      <th>  F-statistic (robust):</th>   <td>31.854</td>  \n",
       "</tr>\n",
       "<tr>\n",
       "  <th></th>                          <td></td>         <th>  P-value            </th>     <td>0.0000</td>  \n",
       "</tr>\n",
       "<tr>\n",
       "  <th>Time periods:</th>            <td>45</td>        <th>  Distribution:      </th>    <td>F(1,6291)</td>\n",
       "</tr>\n",
       "<tr>\n",
       "  <th>Avg Obs:</th>               <td>143.00</td>      <th>                     </th>        <td></td>     \n",
       "</tr>\n",
       "<tr>\n",
       "  <th>Min Obs:</th>               <td>143.00</td>      <th>                     </th>        <td></td>     \n",
       "</tr>\n",
       "<tr>\n",
       "  <th>Max Obs:</th>               <td>143.00</td>      <th>                     </th>        <td></td>     \n",
       "</tr>\n",
       "<tr>\n",
       "  <th></th>                          <td></td>         <th>                     </th>        <td></td>     \n",
       "</tr>\n",
       "</table>\n",
       "<table class=\"simpletable\">\n",
       "<caption>Parameter Estimates</caption>\n",
       "<tr>\n",
       "          <td></td>         <th>Parameter</th> <th>Std. Err.</th> <th>T-stat</th>  <th>P-value</th>  <th>Lower CI</th>   <th>Upper CI</th> \n",
       "</tr>\n",
       "<tr>\n",
       "  <th>const</th>             <td>176.93</td>    <td>1.0694</td>   <td>165.45</td>  <td>0.0000</td>    <td>174.84</td>     <td>179.03</td>  \n",
       "</tr>\n",
       "<tr>\n",
       "  <th>Ventas_Semanales</th> <td>-5.17e-06</td> <td>9.161e-07</td> <td>-5.6439</td> <td>0.0000</td>  <td>-6.966e-06</td> <td>-3.374e-06</td>\n",
       "</tr>\n",
       "</table><br/><br/>F-test for Poolability: 0.2859<br/>P-value: 1.0000<br/>Distribution: F(142,6291)<br/><br/>Included effects: Entity<br/>id: 0x23188789f40"
      ],
      "text/plain": [
       "                          PanelOLS Estimation Summary                           \n",
       "================================================================================\n",
       "Dep. Variable:                    IPC   R-squared:                        0.0050\n",
       "Estimator:                   PanelOLS   R-squared (Between):             -0.0362\n",
       "No. Observations:                6435   R-squared (Within):               0.0050\n",
       "Date:                Mon, May 22 2023   R-squared (Overall):              0.0048\n",
       "Time:                        15:58:09   Log-likelihood                -3.273e+04\n",
       "Cov. Estimator:            Unadjusted                                           \n",
       "                                        F-statistic:                      31.854\n",
       "Entities:                         143   P-value                           0.0000\n",
       "Avg Obs:                       45.000   Distribution:                  F(1,6291)\n",
       "Min Obs:                       45.000                                           \n",
       "Max Obs:                       45.000   F-statistic (robust):             31.854\n",
       "                                        P-value                           0.0000\n",
       "Time periods:                      45   Distribution:                  F(1,6291)\n",
       "Avg Obs:                       143.00                                           \n",
       "Min Obs:                       143.00                                           \n",
       "Max Obs:                       143.00                                           \n",
       "                                                                                \n",
       "                                Parameter Estimates                                 \n",
       "====================================================================================\n",
       "                  Parameter  Std. Err.     T-stat    P-value    Lower CI    Upper CI\n",
       "------------------------------------------------------------------------------------\n",
       "const                176.93     1.0694     165.45     0.0000      174.84      179.03\n",
       "Ventas_Semanales  -5.17e-06  9.161e-07    -5.6439     0.0000  -6.966e-06  -3.374e-06\n",
       "====================================================================================\n",
       "\n",
       "F-test for Poolability: 0.2859\n",
       "P-value: 1.0000\n",
       "Distribution: F(142,6291)\n",
       "\n",
       "Included effects: Entity\n",
       "PanelEffectsResults, id: 0x23188789f40"
      ]
     },
     "execution_count": 41,
     "metadata": {},
     "output_type": "execute_result"
    }
   ],
   "source": [
    "from linearmodels import PanelOLS\n",
    "modelo_fe = PanelOLS(y, X, entity_effects = True)\n",
    "resultados_fe = modelo_fe.fit()\n",
    "resultados_fe"
   ]
  },
  {
   "cell_type": "code",
   "execution_count": 42,
   "id": "a1af2bc9",
   "metadata": {},
   "outputs": [
    {
     "data": {
      "text/html": [
       "<table class=\"simpletable\">\n",
       "<caption>RandomEffects Estimation Summary</caption>\n",
       "<tr>\n",
       "  <th>Dep. Variable:</th>           <td>IPC</td>       <th>  R-squared:         </th>     <td>0.0048</td>  \n",
       "</tr>\n",
       "<tr>\n",
       "  <th>Estimator:</th>          <td>RandomEffects</td>  <th>  R-squared (Between):</th>    <td>-0.0346</td> \n",
       "</tr>\n",
       "<tr>\n",
       "  <th>No. Observations:</th>       <td>6435</td>       <th>  R-squared (Within):</th>     <td>0.0050</td>  \n",
       "</tr>\n",
       "<tr>\n",
       "  <th>Date:</th>             <td>Mon, May 22 2023</td> <th>  R-squared (Overall):</th>    <td>0.0048</td>  \n",
       "</tr>\n",
       "<tr>\n",
       "  <th>Time:</th>                 <td>15:58:30</td>     <th>  Log-likelihood     </th>   <td>-3.275e+04</td>\n",
       "</tr>\n",
       "<tr>\n",
       "  <th>Cov. Estimator:</th>      <td>Unadjusted</td>    <th>                     </th>        <td></td>     \n",
       "</tr>\n",
       "<tr>\n",
       "  <th></th>                          <td></td>         <th>  F-statistic:       </th>     <td>30.954</td>  \n",
       "</tr>\n",
       "<tr>\n",
       "  <th>Entities:</th>                <td>143</td>       <th>  P-value            </th>     <td>0.0000</td>  \n",
       "</tr>\n",
       "<tr>\n",
       "  <th>Avg Obs:</th>               <td>45.000</td>      <th>  Distribution:      </th>    <td>F(1,6433)</td>\n",
       "</tr>\n",
       "<tr>\n",
       "  <th>Min Obs:</th>               <td>45.000</td>      <th>                     </th>        <td></td>     \n",
       "</tr>\n",
       "<tr>\n",
       "  <th>Max Obs:</th>               <td>45.000</td>      <th>  F-statistic (robust):</th>   <td>30.954</td>  \n",
       "</tr>\n",
       "<tr>\n",
       "  <th></th>                          <td></td>         <th>  P-value            </th>     <td>0.0000</td>  \n",
       "</tr>\n",
       "<tr>\n",
       "  <th>Time periods:</th>            <td>45</td>        <th>  Distribution:      </th>    <td>F(1,6433)</td>\n",
       "</tr>\n",
       "<tr>\n",
       "  <th>Avg Obs:</th>               <td>143.00</td>      <th>                     </th>        <td></td>     \n",
       "</tr>\n",
       "<tr>\n",
       "  <th>Min Obs:</th>               <td>143.00</td>      <th>                     </th>        <td></td>     \n",
       "</tr>\n",
       "<tr>\n",
       "  <th>Max Obs:</th>               <td>143.00</td>      <th>                     </th>        <td></td>     \n",
       "</tr>\n",
       "<tr>\n",
       "  <th></th>                          <td></td>         <th>                     </th>        <td></td>     \n",
       "</tr>\n",
       "</table>\n",
       "<table class=\"simpletable\">\n",
       "<caption>Parameter Estimates</caption>\n",
       "<tr>\n",
       "          <td></td>          <th>Parameter</th> <th>Std. Err.</th> <th>T-stat</th>  <th>P-value</th>  <th>Lower CI</th>   <th>Upper CI</th> \n",
       "</tr>\n",
       "<tr>\n",
       "  <th>const</th>              <td>176.77</td>    <td>1.0530</td>   <td>167.86</td>  <td>0.0000</td>    <td>174.70</td>     <td>178.83</td>  \n",
       "</tr>\n",
       "<tr>\n",
       "  <th>Ventas_Semanales</th> <td>-5.008e-06</td> <td>9.002e-07</td> <td>-5.5637</td> <td>0.0000</td>  <td>-6.773e-06</td> <td>-3.244e-06</td>\n",
       "</tr>\n",
       "</table><br/>id: 0x23188791d00"
      ],
      "text/plain": [
       "                        RandomEffects Estimation Summary                        \n",
       "================================================================================\n",
       "Dep. Variable:                    IPC   R-squared:                        0.0048\n",
       "Estimator:              RandomEffects   R-squared (Between):             -0.0346\n",
       "No. Observations:                6435   R-squared (Within):               0.0050\n",
       "Date:                Mon, May 22 2023   R-squared (Overall):              0.0048\n",
       "Time:                        15:58:30   Log-likelihood                -3.275e+04\n",
       "Cov. Estimator:            Unadjusted                                           \n",
       "                                        F-statistic:                      30.954\n",
       "Entities:                         143   P-value                           0.0000\n",
       "Avg Obs:                       45.000   Distribution:                  F(1,6433)\n",
       "Min Obs:                       45.000                                           \n",
       "Max Obs:                       45.000   F-statistic (robust):             30.954\n",
       "                                        P-value                           0.0000\n",
       "Time periods:                      45   Distribution:                  F(1,6433)\n",
       "Avg Obs:                       143.00                                           \n",
       "Min Obs:                       143.00                                           \n",
       "Max Obs:                       143.00                                           \n",
       "                                                                                \n",
       "                                Parameter Estimates                                 \n",
       "====================================================================================\n",
       "                  Parameter  Std. Err.     T-stat    P-value    Lower CI    Upper CI\n",
       "------------------------------------------------------------------------------------\n",
       "const                176.77     1.0530     167.86     0.0000      174.70      178.83\n",
       "Ventas_Semanales -5.008e-06  9.002e-07    -5.5637     0.0000  -6.773e-06  -3.244e-06\n",
       "====================================================================================\n",
       "RandomEffectsResults, id: 0x23188791d00"
      ]
     },
     "execution_count": 42,
     "metadata": {},
     "output_type": "execute_result"
    }
   ],
   "source": [
    "from linearmodels import RandomEffects\n",
    "modelo_re = RandomEffects(y, X)\n",
    "resultados_re = modelo_re.fit()\n",
    "resultados_re"
   ]
  },
  {
   "cell_type": "markdown",
   "id": "a095de8a",
   "metadata": {},
   "source": [
    "Como ambos modelos devuelven resultados similares, para seleccionar el modelo, aplicaremos el test de Hausman."
   ]
  },
  {
   "cell_type": "code",
   "execution_count": 43,
   "id": "54f2a5d1",
   "metadata": {},
   "outputs": [],
   "source": [
    "import numpy.linalg as la\n",
    "from scipy import stats\n",
    "import numpy as np"
   ]
  },
  {
   "cell_type": "code",
   "execution_count": 44,
   "id": "05262045",
   "metadata": {},
   "outputs": [],
   "source": [
    "def hausman(fe, re):\n",
    "    b = fe.params\n",
    "    B = re.params\n",
    "    v_b = fe.cov\n",
    "    v_B = re.cov\n",
    "    df = b[np.abs(b) < 1e8].size\n",
    "    chi2 = np.dot((b - B).T, la.inv(v_b - v_B).dot(b - B)) \n",
    " \n",
    "    pval = stats.chi2.sf(chi2, df)\n",
    "    return chi2, df, pval"
   ]
  },
  {
   "cell_type": "code",
   "execution_count": 45,
   "id": "07a7587f",
   "metadata": {},
   "outputs": [],
   "source": [
    "hausman = hausman(resultados_fe, resultados_re) "
   ]
  },
  {
   "cell_type": "code",
   "execution_count": 46,
   "id": "cdc5ae47",
   "metadata": {},
   "outputs": [
    {
     "name": "stdout",
     "output_type": "stream",
     "text": [
      "chi-Squared: 0.9083811466311792\n",
      "degrees of freedom: 2\n",
      "p-Value:0.6349617149555744\n"
     ]
    }
   ],
   "source": [
    "print('chi-Squared: ' + str(hausman[0]))\n",
    "print('degrees of freedom: ' + str(hausman[1]))\n",
    "print('p-Value:' + str(hausman[2]))"
   ]
  },
  {
   "cell_type": "markdown",
   "id": "80a03411",
   "metadata": {},
   "source": [
    "Listo!, dado que el valor p es muy grande (0.6349617149555744), la hipótesis nula no puede rechazarse. En consecuencia, El modelo preferido es el de efectos aleatorios parece ser el más adecuado."
   ]
  },
  {
   "cell_type": "markdown",
   "id": "44ca2e25",
   "metadata": {},
   "source": [
    "## Entrene al modelo de regresión lineal por sklearn."
   ]
  },
  {
   "cell_type": "code",
   "execution_count": 24,
   "id": "1d236d64",
   "metadata": {},
   "outputs": [],
   "source": [
    "df.head()\n",
    "df = df.drop(columns=[\"Fecha\"])"
   ]
  },
  {
   "cell_type": "code",
   "execution_count": 37,
   "id": "67a9444f",
   "metadata": {},
   "outputs": [
    {
     "name": "stdout",
     "output_type": "stream",
     "text": [
      "(5791, 5)  <class 'pandas.core.frame.DataFrame'>\n",
      "(5791,) \t  <class 'pandas.core.series.Series'>\n",
      "(644, 5)  <class 'pandas.core.frame.DataFrame'>\n",
      "(644,) \t  <class 'pandas.core.series.Series'>\n"
     ]
    }
   ],
   "source": [
    "from sklearn.linear_model import LinearRegression\n",
    "from sklearn.model_selection import train_test_split\n",
    "from sklearn.preprocessing import LabelEncoder\n",
    "\n",
    "\n",
    "X = df[df.columns.difference(['IPC'])]\n",
    "y = df.IPC\n",
    "\n",
    "X_train , X_test , y_train , y_test = train_test_split(X , y , test_size = 0.10,random_state =123)\n",
    "print(X_train.shape,\"\",type(X_train))\n",
    "print(y_train.shape,\"\\t \",type(y_train))\n",
    "print(X_test.shape,\"\",type(X_test))\n",
    "print(y_test.shape,\"\\t \",type(y_test))"
   ]
  },
  {
   "cell_type": "code",
   "execution_count": 38,
   "id": "3476184f",
   "metadata": {},
   "outputs": [
    {
     "data": {
      "text/html": [
       "<style>#sk-container-id-2 {color: black;background-color: white;}#sk-container-id-2 pre{padding: 0;}#sk-container-id-2 div.sk-toggleable {background-color: white;}#sk-container-id-2 label.sk-toggleable__label {cursor: pointer;display: block;width: 100%;margin-bottom: 0;padding: 0.3em;box-sizing: border-box;text-align: center;}#sk-container-id-2 label.sk-toggleable__label-arrow:before {content: \"▸\";float: left;margin-right: 0.25em;color: #696969;}#sk-container-id-2 label.sk-toggleable__label-arrow:hover:before {color: black;}#sk-container-id-2 div.sk-estimator:hover label.sk-toggleable__label-arrow:before {color: black;}#sk-container-id-2 div.sk-toggleable__content {max-height: 0;max-width: 0;overflow: hidden;text-align: left;background-color: #f0f8ff;}#sk-container-id-2 div.sk-toggleable__content pre {margin: 0.2em;color: black;border-radius: 0.25em;background-color: #f0f8ff;}#sk-container-id-2 input.sk-toggleable__control:checked~div.sk-toggleable__content {max-height: 200px;max-width: 100%;overflow: auto;}#sk-container-id-2 input.sk-toggleable__control:checked~label.sk-toggleable__label-arrow:before {content: \"▾\";}#sk-container-id-2 div.sk-estimator input.sk-toggleable__control:checked~label.sk-toggleable__label {background-color: #d4ebff;}#sk-container-id-2 div.sk-label input.sk-toggleable__control:checked~label.sk-toggleable__label {background-color: #d4ebff;}#sk-container-id-2 input.sk-hidden--visually {border: 0;clip: rect(1px 1px 1px 1px);clip: rect(1px, 1px, 1px, 1px);height: 1px;margin: -1px;overflow: hidden;padding: 0;position: absolute;width: 1px;}#sk-container-id-2 div.sk-estimator {font-family: monospace;background-color: #f0f8ff;border: 1px dotted black;border-radius: 0.25em;box-sizing: border-box;margin-bottom: 0.5em;}#sk-container-id-2 div.sk-estimator:hover {background-color: #d4ebff;}#sk-container-id-2 div.sk-parallel-item::after {content: \"\";width: 100%;border-bottom: 1px solid gray;flex-grow: 1;}#sk-container-id-2 div.sk-label:hover label.sk-toggleable__label {background-color: #d4ebff;}#sk-container-id-2 div.sk-serial::before {content: \"\";position: absolute;border-left: 1px solid gray;box-sizing: border-box;top: 0;bottom: 0;left: 50%;z-index: 0;}#sk-container-id-2 div.sk-serial {display: flex;flex-direction: column;align-items: center;background-color: white;padding-right: 0.2em;padding-left: 0.2em;position: relative;}#sk-container-id-2 div.sk-item {position: relative;z-index: 1;}#sk-container-id-2 div.sk-parallel {display: flex;align-items: stretch;justify-content: center;background-color: white;position: relative;}#sk-container-id-2 div.sk-item::before, #sk-container-id-2 div.sk-parallel-item::before {content: \"\";position: absolute;border-left: 1px solid gray;box-sizing: border-box;top: 0;bottom: 0;left: 50%;z-index: -1;}#sk-container-id-2 div.sk-parallel-item {display: flex;flex-direction: column;z-index: 1;position: relative;background-color: white;}#sk-container-id-2 div.sk-parallel-item:first-child::after {align-self: flex-end;width: 50%;}#sk-container-id-2 div.sk-parallel-item:last-child::after {align-self: flex-start;width: 50%;}#sk-container-id-2 div.sk-parallel-item:only-child::after {width: 0;}#sk-container-id-2 div.sk-dashed-wrapped {border: 1px dashed gray;margin: 0 0.4em 0.5em 0.4em;box-sizing: border-box;padding-bottom: 0.4em;background-color: white;}#sk-container-id-2 div.sk-label label {font-family: monospace;font-weight: bold;display: inline-block;line-height: 1.2em;}#sk-container-id-2 div.sk-label-container {text-align: center;}#sk-container-id-2 div.sk-container {/* jupyter's `normalize.less` sets `[hidden] { display: none; }` but bootstrap.min.css set `[hidden] { display: none !important; }` so we also need the `!important` here to be able to override the default hidden behavior on the sphinx rendered scikit-learn.org. See: https://github.com/scikit-learn/scikit-learn/issues/21755 */display: inline-block !important;position: relative;}#sk-container-id-2 div.sk-text-repr-fallback {display: none;}</style><div id=\"sk-container-id-2\" class=\"sk-top-container\"><div class=\"sk-text-repr-fallback\"><pre>LinearRegression()</pre><b>In a Jupyter environment, please rerun this cell to show the HTML representation or trust the notebook. <br />On GitHub, the HTML representation is unable to render, please try loading this page with nbviewer.org.</b></div><div class=\"sk-container\" hidden><div class=\"sk-item\"><div class=\"sk-estimator sk-toggleable\"><input class=\"sk-toggleable__control sk-hidden--visually\" id=\"sk-estimator-id-2\" type=\"checkbox\" checked><label for=\"sk-estimator-id-2\" class=\"sk-toggleable__label sk-toggleable__label-arrow\">LinearRegression</label><div class=\"sk-toggleable__content\"><pre>LinearRegression()</pre></div></div></div></div></div>"
      ],
      "text/plain": [
       "LinearRegression()"
      ]
     },
     "execution_count": 38,
     "metadata": {},
     "output_type": "execute_result"
    }
   ],
   "source": [
    "modelo_regresion = LinearRegression()\n",
    "modelo_regresion.fit(X_train, y_train)"
   ]
  },
  {
   "cell_type": "code",
   "execution_count": 39,
   "id": "4935a61d",
   "metadata": {},
   "outputs": [],
   "source": [
    "predicciones_train = modelo_regresion.predict(X_train)\n",
    "predicciones_test = modelo_regresion.predict(X_test)"
   ]
  },
  {
   "cell_type": "code",
   "execution_count": 40,
   "id": "45e2a02e",
   "metadata": {},
   "outputs": [],
   "source": [
    "from sklearn.metrics import mean_squared_error, mean_absolute_error"
   ]
  },
  {
   "cell_type": "code",
   "execution_count": 41,
   "id": "8fc112f1",
   "metadata": {},
   "outputs": [
    {
     "name": "stdout",
     "output_type": "stream",
     "text": [
      "1304.4762844982738\n",
      "1291.4902221781176\n"
     ]
    }
   ],
   "source": [
    "MSE_train = mean_squared_error(y_train, predicciones_train)\n",
    "MSE_test = mean_squared_error(y_test, predicciones_test)\n",
    "print(MSE_train)\n",
    "print(MSE_test)"
   ]
  },
  {
   "cell_type": "code",
   "execution_count": 42,
   "id": "ebe9e3f7",
   "metadata": {},
   "outputs": [
    {
     "name": "stdout",
     "output_type": "stream",
     "text": [
      "36.117534308120675\n",
      "35.937309612408626\n"
     ]
    }
   ],
   "source": [
    "RMSE_train = np.sqrt(MSE_train)\n",
    "RMSE_test = np.sqrt(MSE_test)\n",
    "print(RMSE_train)\n",
    "print(RMSE_test)"
   ]
  },
  {
   "cell_type": "code",
   "execution_count": 43,
   "id": "696b8bb2",
   "metadata": {},
   "outputs": [
    {
     "name": "stdout",
     "output_type": "stream",
     "text": [
      "33.0132318584412\n",
      "32.636225190746664\n"
     ]
    }
   ],
   "source": [
    "MAE_train = mean_absolute_error(y_train, predicciones_train)\n",
    "MAE_test = mean_absolute_error(y_test, predicciones_test)\n",
    "print(MAE_train)\n",
    "print(MAE_test)"
   ]
  },
  {
   "cell_type": "code",
   "execution_count": 44,
   "id": "a1f0eb81",
   "metadata": {},
   "outputs": [
    {
     "name": "stdout",
     "output_type": "stream",
     "text": [
      "El R^2 del subconjunto de entrenamiento es: 0.1583299287919031\n",
      "El R^2 del subconjunto de prueba es: 0.1604218922716889\n"
     ]
    }
   ],
   "source": [
    "from sklearn.metrics import r2_score\n",
    "r_square_train = r2_score(y_train, predicciones_train)\n",
    "r_square_test  = r2_score(y_test, predicciones_test)\n",
    "print('El R^2 del subconjunto de entrenamiento es:' , r_square_train)\n",
    "print('El R^2 del subconjunto de prueba es:' , r_square_test)"
   ]
  },
  {
   "cell_type": "code",
   "execution_count": 55,
   "id": "2eb9487a",
   "metadata": {},
   "outputs": [
    {
     "name": "stdout",
     "output_type": "stream",
     "text": [
      "intercepto: 275.17874690976885\n",
      "pendiente: [-6.39786875e+00 -1.71804585e+01  4.30714106e-01 -5.55796784e-01\n",
      " -9.46572833e-06]\n"
     ]
    }
   ],
   "source": [
    "# Print the Intercept:\n",
    "print('intercepto:', modelo_regresion.intercept_)\n",
    "\n",
    "# Print the Slope:\n",
    "print('pendiente:', modelo_regresion.coef_) "
   ]
  },
  {
   "cell_type": "markdown",
   "id": "fe64b83a",
   "metadata": {},
   "source": [
    "Al aplicar el modelo de aprendizaje automático no se tiene un r^2 un buen índice como predictor. "
   ]
  }
 ],
 "metadata": {
  "kernelspec": {
   "display_name": "Python 3",
   "language": "python",
   "name": "python3"
  },
  "language_info": {
   "codemirror_mode": {
    "name": "ipython",
    "version": 3
   },
   "file_extension": ".py",
   "mimetype": "text/x-python",
   "name": "python",
   "nbconvert_exporter": "python",
   "pygments_lexer": "ipython3",
   "version": "3.8.8"
  }
 },
 "nbformat": 4,
 "nbformat_minor": 5
}
